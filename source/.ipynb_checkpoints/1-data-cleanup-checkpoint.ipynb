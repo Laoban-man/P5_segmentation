{
 "cells": [
  {
   "cell_type": "markdown",
   "id": "4d0c4d20-cbb9-48eb-945e-57ab0ebadb4d",
   "metadata": {},
   "source": [
    "# Presentation du cas"
   ]
  },
  {
   "cell_type": "markdown",
   "id": "6fe671e4-dc08-4f5d-a44e-5b153cfee134",
   "metadata": {},
   "source": [
    "## Importations des librairies"
   ]
  },
  {
   "cell_type": "code",
   "execution_count": 1,
   "id": "31aa9d87-ffb9-4cf5-9cf0-dc71aa9f96ee",
   "metadata": {},
   "outputs": [],
   "source": [
    "# Standard libraries\n",
    "import pandas as pd\n",
    "import numpy as np\n",
    "import sys\n",
    "import os\n",
    "import glob\n",
    "import json\n",
    "import warnings\n",
    "import pickle\n",
    "import string\n",
    "\n",
    "# Graphic libraries\n",
    "import matplotlib.pyplot as plt\n",
    "import seaborn as sns\n",
    "\n",
    "# Machine learning libraries\n",
    "from sklearn.model_selection import train_test_split\n",
    "from sklearn.impute import KNNImputer\n",
    "from sklearn.preprocessing import MinMaxScaler\n",
    "\n",
    "warnings.filterwarnings('ignore')"
   ]
  },
  {
   "cell_type": "markdown",
   "id": "551b8d2f-befd-46c9-8b6c-3b2301c0196b",
   "metadata": {},
   "source": [
    "## Telechargements des donnees"
   ]
  },
  {
   "cell_type": "code",
   "execution_count": 2,
   "id": "085a838c-d14d-4fff-98ec-43fa7be86d2d",
   "metadata": {},
   "outputs": [],
   "source": [
    "folder_path = os.path.join(\"..\", \"..\", \"data\", \"segmentation\")\n",
    "csv_files = glob.glob(folder_path + \"/*.csv\")\n",
    "file_contents = []\n",
    "for a in csv_files:\n",
    "    file_contents.append((a, pd.read_csv(a)))"
   ]
  },
  {
   "cell_type": "code",
   "execution_count": 3,
   "id": "cd60dcc2-3fe4-4e9b-a040-f8cb6deac5ff",
   "metadata": {},
   "outputs": [
    {
     "data": {
      "text/plain": [
       "['../../data/segmentation/olist_order_reviews_dataset.csv',\n",
       " '../../data/segmentation/olist_order_payments_dataset.csv',\n",
       " '../../data/segmentation/product_category_name_translation.csv',\n",
       " '../../data/segmentation/olist_products_dataset.csv',\n",
       " '../../data/segmentation/olist_orders_dataset.csv',\n",
       " '../../data/segmentation/olist_sellers_dataset.csv',\n",
       " '../../data/segmentation/olist_customers_dataset.csv',\n",
       " '../../data/segmentation/olist_order_items_dataset.csv',\n",
       " '../../data/segmentation/olist_geolocation_dataset.csv']"
      ]
     },
     "execution_count": 3,
     "metadata": {},
     "output_type": "execute_result"
    }
   ],
   "source": [
    "csv_files"
   ]
  },
  {
   "cell_type": "markdown",
   "id": "44f16bd4-a865-4d52-9ccc-922886a05930",
   "metadata": {},
   "source": [
    "## Exploration initiale des donnees"
   ]
  },
  {
   "cell_type": "code",
   "execution_count": 4,
   "id": "bfa13b90-6256-4bc2-8795-6a29c308735f",
   "metadata": {
    "tags": []
   },
   "outputs": [
    {
     "name": "stdout",
     "output_type": "stream",
     "text": [
      "../../data/segmentation/olist_order_reviews_dataset.csv\n",
      "<class 'pandas.core.frame.DataFrame'>\n",
      "RangeIndex: 100000 entries, 0 to 99999\n",
      "Data columns (total 7 columns):\n",
      " #   Column                   Non-Null Count   Dtype \n",
      "---  ------                   --------------   ----- \n",
      " 0   review_id                100000 non-null  object\n",
      " 1   order_id                 100000 non-null  object\n",
      " 2   review_score             100000 non-null  int64 \n",
      " 3   review_comment_title     11715 non-null   object\n",
      " 4   review_comment_message   41753 non-null   object\n",
      " 5   review_creation_date     100000 non-null  object\n",
      " 6   review_answer_timestamp  100000 non-null  object\n",
      "dtypes: int64(1), object(6)\n",
      "memory usage: 5.3+ MB\n"
     ]
    }
   ],
   "source": [
    "print(file_contents[0][0])\n",
    "file_contents[0][1].info()"
   ]
  },
  {
   "cell_type": "code",
   "execution_count": 5,
   "id": "778c3940-bcd4-46b5-be02-1f2fb133061a",
   "metadata": {},
   "outputs": [
    {
     "data": {
      "text/plain": [
       "0                                                      NaN\n",
       "1                                                      NaN\n",
       "2                                                      NaN\n",
       "3                    Recebi bem antes do prazo estipulado.\n",
       "4        Parabéns lojas lannister adorei comprar pela I...\n",
       "                               ...                        \n",
       "99995                                                  NaN\n",
       "99996    Excelente mochila, entrega super rápida. Super...\n",
       "99997                                                  NaN\n",
       "99998    Solicitei a compra de uma capa de retrovisor c...\n",
       "99999    meu produto chegou e ja tenho que devolver, po...\n",
       "Name: review_comment_message, Length: 100000, dtype: object"
      ]
     },
     "execution_count": 5,
     "metadata": {},
     "output_type": "execute_result"
    }
   ],
   "source": [
    "file_contents[0][1][\"review_comment_message\"]"
   ]
  },
  {
   "cell_type": "markdown",
   "id": "1a8e65d3-0510-4f15-9a10-215e869cdc0f",
   "metadata": {},
   "source": [
    "Fichier contenant les avis de commande, contenant 100 000 observations dont pres de 40 000 ont un message et 10 000 ont un titre."
   ]
  },
  {
   "cell_type": "code",
   "execution_count": 6,
   "id": "56b5a30c-8c87-458c-829d-97d2535f9f47",
   "metadata": {
    "tags": []
   },
   "outputs": [
    {
     "name": "stdout",
     "output_type": "stream",
     "text": [
      "../../data/segmentation/olist_order_payments_dataset.csv\n",
      "<class 'pandas.core.frame.DataFrame'>\n",
      "RangeIndex: 103886 entries, 0 to 103885\n",
      "Data columns (total 5 columns):\n",
      " #   Column                Non-Null Count   Dtype  \n",
      "---  ------                --------------   -----  \n",
      " 0   order_id              103886 non-null  object \n",
      " 1   payment_sequential    103886 non-null  int64  \n",
      " 2   payment_type          103886 non-null  object \n",
      " 3   payment_installments  103886 non-null  int64  \n",
      " 4   payment_value         103886 non-null  float64\n",
      "dtypes: float64(1), int64(2), object(2)\n",
      "memory usage: 4.0+ MB\n"
     ]
    }
   ],
   "source": [
    "print(file_contents[1][0])\n",
    "file_contents[1][1].info()"
   ]
  },
  {
   "cell_type": "markdown",
   "id": "90128e20-2374-4739-924c-c7f9cc5bdbd2",
   "metadata": {},
   "source": [
    "Fichier contenant les commandes. Comme on pourrait si attendre, aucune donnee n'est absente de cette base."
   ]
  },
  {
   "cell_type": "code",
   "execution_count": 7,
   "id": "934e124a-a08d-41da-8248-64e911a4c9df",
   "metadata": {
    "tags": []
   },
   "outputs": [
    {
     "name": "stdout",
     "output_type": "stream",
     "text": [
      "../../data/segmentation/product_category_name_translation.csv\n",
      "<class 'pandas.core.frame.DataFrame'>\n",
      "RangeIndex: 71 entries, 0 to 70\n",
      "Data columns (total 2 columns):\n",
      " #   Column                         Non-Null Count  Dtype \n",
      "---  ------                         --------------  ----- \n",
      " 0   product_category_name          71 non-null     object\n",
      " 1   product_category_name_english  71 non-null     object\n",
      "dtypes: object(2)\n",
      "memory usage: 1.2+ KB\n"
     ]
    }
   ],
   "source": [
    "print(file_contents[2][0])\n",
    "file_contents[2][1].info()"
   ]
  },
  {
   "cell_type": "markdown",
   "id": "1551b955-4448-4303-9b49-1a8ac46ecec6",
   "metadata": {},
   "source": [
    "Traduction des produits en anglais."
   ]
  },
  {
   "cell_type": "code",
   "execution_count": 8,
   "id": "294bae41-5f06-4178-a0f5-6a774f4e6bb4",
   "metadata": {
    "tags": []
   },
   "outputs": [
    {
     "name": "stdout",
     "output_type": "stream",
     "text": [
      "../../data/segmentation/olist_products_dataset.csv\n",
      "<class 'pandas.core.frame.DataFrame'>\n",
      "RangeIndex: 32951 entries, 0 to 32950\n",
      "Data columns (total 9 columns):\n",
      " #   Column                      Non-Null Count  Dtype  \n",
      "---  ------                      --------------  -----  \n",
      " 0   product_id                  32951 non-null  object \n",
      " 1   product_category_name       32341 non-null  object \n",
      " 2   product_name_lenght         32341 non-null  float64\n",
      " 3   product_description_lenght  32341 non-null  float64\n",
      " 4   product_photos_qty          32341 non-null  float64\n",
      " 5   product_weight_g            32949 non-null  float64\n",
      " 6   product_length_cm           32949 non-null  float64\n",
      " 7   product_height_cm           32949 non-null  float64\n",
      " 8   product_width_cm            32949 non-null  float64\n",
      "dtypes: float64(7), object(2)\n",
      "memory usage: 2.3+ MB\n"
     ]
    }
   ],
   "source": [
    "print(file_contents[3][0])\n",
    "file_contents[3][1].info()"
   ]
  },
  {
   "cell_type": "markdown",
   "id": "bdc6425f-79a2-44e4-90b8-4c567e0ab390",
   "metadata": {},
   "source": [
    "Fichier contenant les descriptions de donnees. Les donnees sont presque entierement presentes mais deux observations n'ont qu'un numero d'identification."
   ]
  },
  {
   "cell_type": "code",
   "execution_count": 9,
   "id": "b980dd97-821a-4432-ae20-6fd6fbc02525",
   "metadata": {
    "tags": []
   },
   "outputs": [
    {
     "name": "stdout",
     "output_type": "stream",
     "text": [
      "../../data/segmentation/olist_orders_dataset.csv\n",
      "<class 'pandas.core.frame.DataFrame'>\n",
      "RangeIndex: 99441 entries, 0 to 99440\n",
      "Data columns (total 8 columns):\n",
      " #   Column                         Non-Null Count  Dtype \n",
      "---  ------                         --------------  ----- \n",
      " 0   order_id                       99441 non-null  object\n",
      " 1   customer_id                    99441 non-null  object\n",
      " 2   order_status                   99441 non-null  object\n",
      " 3   order_purchase_timestamp       99441 non-null  object\n",
      " 4   order_approved_at              99281 non-null  object\n",
      " 5   order_delivered_carrier_date   97658 non-null  object\n",
      " 6   order_delivered_customer_date  96476 non-null  object\n",
      " 7   order_estimated_delivery_date  99441 non-null  object\n",
      "dtypes: object(8)\n",
      "memory usage: 6.1+ MB\n"
     ]
    }
   ],
   "source": [
    "print(file_contents[4][0])\n",
    "file_contents[4][1].info()"
   ]
  },
  {
   "cell_type": "markdown",
   "id": "417da976-2613-43d6-84fc-06305e47215c",
   "metadata": {},
   "source": [
    "Fichier de suivi des commandes et de leur livraison. Les donnees sont majoritairement presentes, ce qui semble peu representatif des process de livraison reels."
   ]
  },
  {
   "cell_type": "code",
   "execution_count": 10,
   "id": "139f71b1-7ca5-4d7b-af90-1ec4c9c9594a",
   "metadata": {
    "tags": []
   },
   "outputs": [
    {
     "name": "stdout",
     "output_type": "stream",
     "text": [
      "../../data/segmentation/olist_sellers_dataset.csv\n",
      "<class 'pandas.core.frame.DataFrame'>\n",
      "RangeIndex: 3095 entries, 0 to 3094\n",
      "Data columns (total 4 columns):\n",
      " #   Column                  Non-Null Count  Dtype \n",
      "---  ------                  --------------  ----- \n",
      " 0   seller_id               3095 non-null   object\n",
      " 1   seller_zip_code_prefix  3095 non-null   int64 \n",
      " 2   seller_city             3095 non-null   object\n",
      " 3   seller_state            3095 non-null   object\n",
      "dtypes: int64(1), object(3)\n",
      "memory usage: 96.8+ KB\n"
     ]
    }
   ],
   "source": [
    "print(file_contents[5][0])\n",
    "file_contents[5][1].info()"
   ]
  },
  {
   "cell_type": "markdown",
   "id": "9436e90f-c7d0-4200-bb33-ef0e02f22bba",
   "metadata": {},
   "source": [
    "Fichier contenant les vendeurs de la plateforme. Les donnees sont entierement presentes."
   ]
  },
  {
   "cell_type": "code",
   "execution_count": 11,
   "id": "0110f435-0964-4673-b483-9dcf852e8eb8",
   "metadata": {
    "tags": []
   },
   "outputs": [
    {
     "name": "stdout",
     "output_type": "stream",
     "text": [
      "../../data/segmentation/olist_customers_dataset.csv\n",
      "<class 'pandas.core.frame.DataFrame'>\n",
      "RangeIndex: 99441 entries, 0 to 99440\n",
      "Data columns (total 5 columns):\n",
      " #   Column                    Non-Null Count  Dtype \n",
      "---  ------                    --------------  ----- \n",
      " 0   customer_id               99441 non-null  object\n",
      " 1   customer_unique_id        99441 non-null  object\n",
      " 2   customer_zip_code_prefix  99441 non-null  int64 \n",
      " 3   customer_city             99441 non-null  object\n",
      " 4   customer_state            99441 non-null  object\n",
      "dtypes: int64(1), object(4)\n",
      "memory usage: 3.8+ MB\n"
     ]
    }
   ],
   "source": [
    "print(file_contents[6][0])\n",
    "file_contents[6][1].info()"
   ]
  },
  {
   "cell_type": "markdown",
   "id": "740404ad-5c0e-445a-9b15-ac9351a76e93",
   "metadata": {},
   "source": [
    "Fichier contenant les clients de la plateforme. Les donnees sont entierement presentes."
   ]
  },
  {
   "cell_type": "code",
   "execution_count": 12,
   "id": "1ef0a035-37be-43fc-b3d1-4aef43b3372b",
   "metadata": {
    "tags": []
   },
   "outputs": [
    {
     "name": "stdout",
     "output_type": "stream",
     "text": [
      "../../data/segmentation/olist_order_items_dataset.csv\n",
      "<class 'pandas.core.frame.DataFrame'>\n",
      "RangeIndex: 112650 entries, 0 to 112649\n",
      "Data columns (total 7 columns):\n",
      " #   Column               Non-Null Count   Dtype  \n",
      "---  ------               --------------   -----  \n",
      " 0   order_id             112650 non-null  object \n",
      " 1   order_item_id        112650 non-null  int64  \n",
      " 2   product_id           112650 non-null  object \n",
      " 3   seller_id            112650 non-null  object \n",
      " 4   shipping_limit_date  112650 non-null  object \n",
      " 5   price                112650 non-null  float64\n",
      " 6   freight_value        112650 non-null  float64\n",
      "dtypes: float64(2), int64(1), object(4)\n",
      "memory usage: 6.0+ MB\n"
     ]
    }
   ],
   "source": [
    "print(file_contents[7][0])\n",
    "file_contents[7][1].info()"
   ]
  },
  {
   "cell_type": "markdown",
   "id": "50e1f57a-4245-450f-bf46-c85f0b274814",
   "metadata": {},
   "source": [
    "Fichier contenant les details des commandes. Les donnees sont entirement disponibles."
   ]
  },
  {
   "cell_type": "code",
   "execution_count": 13,
   "id": "b0d1b747-a3c6-410b-b185-f5421e676fca",
   "metadata": {},
   "outputs": [
    {
     "name": "stdout",
     "output_type": "stream",
     "text": [
      "../../data/segmentation/olist_geolocation_dataset.csv\n",
      "<class 'pandas.core.frame.DataFrame'>\n",
      "RangeIndex: 1000163 entries, 0 to 1000162\n",
      "Data columns (total 5 columns):\n",
      " #   Column                       Non-Null Count    Dtype  \n",
      "---  ------                       --------------    -----  \n",
      " 0   geolocation_zip_code_prefix  1000163 non-null  int64  \n",
      " 1   geolocation_lat              1000163 non-null  float64\n",
      " 2   geolocation_lng              1000163 non-null  float64\n",
      " 3   geolocation_city             1000163 non-null  object \n",
      " 4   geolocation_state            1000163 non-null  object \n",
      "dtypes: float64(2), int64(1), object(2)\n",
      "memory usage: 38.2+ MB\n"
     ]
    }
   ],
   "source": [
    "print(file_contents[8][0])\n",
    "file_contents[8][1].info()"
   ]
  },
  {
   "cell_type": "markdown",
   "id": "251d43db-b6fd-4fb6-95b6-3b08f6d2e7af",
   "metadata": {},
   "source": [
    "Fichier contenant des donnees de geolocalisation pour le bresil."
   ]
  },
  {
   "cell_type": "markdown",
   "id": "062063e1-a2cf-4166-a1cf-e86e8cedc5b1",
   "metadata": {},
   "source": [
    "## New tables"
   ]
  },
  {
   "cell_type": "markdown",
   "id": "cc818f78-12f7-4fff-8a8a-489e06479817",
   "metadata": {},
   "source": [
    "Creation de nouvelles tables pour preparer les analyses suivantes"
   ]
  },
  {
   "cell_type": "markdown",
   "id": "a4867098-be0e-4f72-89fd-99ee5b40f83f",
   "metadata": {},
   "source": [
    "### Creation d'une table representant l'historique des commandes d'un client et des details pertinents"
   ]
  },
  {
   "cell_type": "code",
   "execution_count": 14,
   "id": "8d97bb27-f8a4-4f00-b01a-79647238870d",
   "metadata": {},
   "outputs": [],
   "source": [
    "order_full = pd.merge(\n",
    "    file_contents[4][1], file_contents[6][1], how=\"left\", on=\"customer_id\"\n",
    ")\n",
    "order_full = pd.merge(order_full, file_contents[7][1], how=\"left\", on=\"order_id\")\n",
    "order_full = pd.merge(order_full, file_contents[1][1], how=\"left\", on=\"order_id\")\n"
   ]
  },
  {
   "cell_type": "code",
   "execution_count": 15,
   "id": "28b82c6d-8f93-46ef-9000-98edff6716f6",
   "metadata": {},
   "outputs": [
    {
     "name": "stdout",
     "output_type": "stream",
     "text": [
      "<class 'pandas.core.frame.DataFrame'>\n",
      "Int64Index: 103200 entries, 0 to 118433\n",
      "Data columns (total 22 columns):\n",
      " #   Column                         Non-Null Count   Dtype  \n",
      "---  ------                         --------------   -----  \n",
      " 0   order_id                       103200 non-null  object \n",
      " 1   customer_id                    103200 non-null  object \n",
      " 2   order_status                   103200 non-null  object \n",
      " 3   order_purchase_timestamp       103200 non-null  object \n",
      " 4   order_approved_at              103040 non-null  object \n",
      " 5   order_delivered_carrier_date   101398 non-null  object \n",
      " 6   order_delivered_customer_date  100195 non-null  object \n",
      " 7   order_estimated_delivery_date  103200 non-null  object \n",
      " 8   customer_unique_id             103200 non-null  object \n",
      " 9   customer_zip_code_prefix       103200 non-null  int64  \n",
      " 10  customer_city                  103200 non-null  object \n",
      " 11  customer_state                 103200 non-null  object \n",
      " 12  order_item_id                  102425 non-null  float64\n",
      " 13  product_id                     102425 non-null  object \n",
      " 14  seller_id                      102425 non-null  object \n",
      " 15  shipping_limit_date            102425 non-null  object \n",
      " 16  price                          102425 non-null  float64\n",
      " 17  freight_value                  102425 non-null  float64\n",
      " 18  payment_sequential             103199 non-null  float64\n",
      " 19  payment_type                   103199 non-null  object \n",
      " 20  payment_installments           103199 non-null  float64\n",
      " 21  payment_value                  103199 non-null  float64\n",
      "dtypes: float64(6), int64(1), object(15)\n",
      "memory usage: 18.1+ MB\n"
     ]
    }
   ],
   "source": [
    "order_full = order_full.drop_duplicates(\n",
    "    subset=[\"order_id\", \"customer_id\", \"product_id\"]\n",
    ")\n",
    "order_full.info()\n"
   ]
  },
  {
   "cell_type": "markdown",
   "id": "68b6100a-b371-4d37-8cc7-00ada3ff4e46",
   "metadata": {},
   "source": [
    "### Product details full"
   ]
  },
  {
   "cell_type": "code",
   "execution_count": 16,
   "id": "1921a320-3aa0-48ed-aba7-e88c2f4765f8",
   "metadata": {},
   "outputs": [],
   "source": [
    "order_product = pd.merge(\n",
    "    file_contents[7][1], file_contents[3][1], how=\"left\", on=\"product_id\"\n",
    ")\n",
    "order_product = pd.merge(order_product, file_contents[0][1], how=\"left\", on=\"order_id\")\n"
   ]
  },
  {
   "cell_type": "code",
   "execution_count": 17,
   "id": "bf3eefab-50ca-4685-a54f-bcc81d52696a",
   "metadata": {},
   "outputs": [
    {
     "name": "stdout",
     "output_type": "stream",
     "text": [
      "<class 'pandas.core.frame.DataFrame'>\n",
      "Int64Index: 102425 entries, 0 to 113321\n",
      "Data columns (total 21 columns):\n",
      " #   Column                      Non-Null Count   Dtype  \n",
      "---  ------                      --------------   -----  \n",
      " 0   order_id                    102425 non-null  object \n",
      " 1   order_item_id               102425 non-null  int64  \n",
      " 2   product_id                  102425 non-null  object \n",
      " 3   seller_id                   102425 non-null  object \n",
      " 4   shipping_limit_date         102425 non-null  object \n",
      " 5   price                       102425 non-null  float64\n",
      " 6   freight_value               102425 non-null  float64\n",
      " 7   product_category_name       100965 non-null  object \n",
      " 8   product_name_lenght         100965 non-null  float64\n",
      " 9   product_description_lenght  100965 non-null  float64\n",
      " 10  product_photos_qty          100965 non-null  float64\n",
      " 11  product_weight_g            102409 non-null  float64\n",
      " 12  product_length_cm           102409 non-null  float64\n",
      " 13  product_height_cm           102409 non-null  float64\n",
      " 14  product_width_cm            102409 non-null  float64\n",
      " 15  review_id                   102425 non-null  object \n",
      " 16  review_score                102425 non-null  int64  \n",
      " 17  review_comment_title        12193 non-null   object \n",
      " 18  review_comment_message      43146 non-null   object \n",
      " 19  review_creation_date        102425 non-null  object \n",
      " 20  review_answer_timestamp     102425 non-null  object \n",
      "dtypes: float64(9), int64(2), object(10)\n",
      "memory usage: 17.2+ MB\n"
     ]
    }
   ],
   "source": [
    "order_product = order_product.drop_duplicates(subset=[\"order_id\", \"product_id\"])\n",
    "\n",
    "order_product.info()"
   ]
  },
  {
   "cell_type": "markdown",
   "id": "93cd5030-81ba-4736-a643-4e5de4326a18",
   "metadata": {},
   "source": [
    "### Combination de products et orders"
   ]
  },
  {
   "cell_type": "code",
   "execution_count": 18,
   "id": "cf6726b5-300f-4c35-a0e3-54162fef5733",
   "metadata": {},
   "outputs": [],
   "source": [
    "full = pd.merge(\n",
    "    order_full,\n",
    "    order_product.drop(\n",
    "        [\n",
    "            \"order_item_id\",\n",
    "            \"product_id\",\n",
    "            \"seller_id\",\n",
    "            \"shipping_limit_date\",\n",
    "            \"price\",\n",
    "            \"freight_value\",\n",
    "        ],\n",
    "        axis=1,\n",
    "    ),\n",
    "    how=\"left\",\n",
    "    on=\"order_id\",\n",
    ")\n"
   ]
  },
  {
   "cell_type": "code",
   "execution_count": 19,
   "id": "f5369dae-01f9-4661-86ee-447a4997b531",
   "metadata": {},
   "outputs": [
    {
     "name": "stdout",
     "output_type": "stream",
     "text": [
      "<class 'pandas.core.frame.DataFrame'>\n",
      "Int64Index: 112162 entries, 0 to 112161\n",
      "Data columns (total 36 columns):\n",
      " #   Column                         Non-Null Count   Dtype  \n",
      "---  ------                         --------------   -----  \n",
      " 0   order_id                       112162 non-null  object \n",
      " 1   customer_id                    112162 non-null  object \n",
      " 2   order_status                   112162 non-null  object \n",
      " 3   order_purchase_timestamp       112162 non-null  object \n",
      " 4   order_approved_at              112002 non-null  object \n",
      " 5   order_delivered_carrier_date   110316 non-null  object \n",
      " 6   order_delivered_customer_date  109071 non-null  object \n",
      " 7   order_estimated_delivery_date  112162 non-null  object \n",
      " 8   customer_unique_id             112162 non-null  object \n",
      " 9   customer_zip_code_prefix       112162 non-null  int64  \n",
      " 10  customer_city                  112162 non-null  object \n",
      " 11  customer_state                 112162 non-null  object \n",
      " 12  order_item_id                  111387 non-null  float64\n",
      " 13  product_id                     111387 non-null  object \n",
      " 14  seller_id                      111387 non-null  object \n",
      " 15  shipping_limit_date            111387 non-null  object \n",
      " 16  price                          111387 non-null  float64\n",
      " 17  freight_value                  111387 non-null  float64\n",
      " 18  payment_sequential             112161 non-null  float64\n",
      " 19  payment_type                   112161 non-null  object \n",
      " 20  payment_installments           112161 non-null  float64\n",
      " 21  payment_value                  112161 non-null  float64\n",
      " 22  product_category_name          109832 non-null  object \n",
      " 23  product_name_lenght            109832 non-null  float64\n",
      " 24  product_description_lenght     109832 non-null  float64\n",
      " 25  product_photos_qty             109832 non-null  float64\n",
      " 26  product_weight_g               111371 non-null  float64\n",
      " 27  product_length_cm              111371 non-null  float64\n",
      " 28  product_height_cm              111371 non-null  float64\n",
      " 29  product_width_cm               111371 non-null  float64\n",
      " 30  review_id                      111387 non-null  object \n",
      " 31  review_score                   111387 non-null  float64\n",
      " 32  review_comment_title           13627 non-null   object \n",
      " 33  review_comment_message         48258 non-null   object \n",
      " 34  review_creation_date           111387 non-null  object \n",
      " 35  review_answer_timestamp        111387 non-null  object \n",
      "dtypes: float64(14), int64(1), object(21)\n",
      "memory usage: 31.7+ MB\n"
     ]
    }
   ],
   "source": [
    "full.info()"
   ]
  },
  {
   "cell_type": "code",
   "execution_count": 20,
   "id": "5a033443-20b4-450d-afaf-8ff1bb597fef",
   "metadata": {},
   "outputs": [
    {
     "name": "stdout",
     "output_type": "stream",
     "text": [
      "<class 'pandas.core.frame.DataFrame'>\n",
      "Int64Index: 103200 entries, 0 to 112161\n",
      "Data columns (total 36 columns):\n",
      " #   Column                         Non-Null Count   Dtype  \n",
      "---  ------                         --------------   -----  \n",
      " 0   order_id                       103200 non-null  object \n",
      " 1   customer_id                    103200 non-null  object \n",
      " 2   order_status                   103200 non-null  object \n",
      " 3   order_purchase_timestamp       103200 non-null  object \n",
      " 4   order_approved_at              103040 non-null  object \n",
      " 5   order_delivered_carrier_date   101398 non-null  object \n",
      " 6   order_delivered_customer_date  100195 non-null  object \n",
      " 7   order_estimated_delivery_date  103200 non-null  object \n",
      " 8   customer_unique_id             103200 non-null  object \n",
      " 9   customer_zip_code_prefix       103200 non-null  int64  \n",
      " 10  customer_city                  103200 non-null  object \n",
      " 11  customer_state                 103200 non-null  object \n",
      " 12  order_item_id                  102425 non-null  float64\n",
      " 13  product_id                     102425 non-null  object \n",
      " 14  seller_id                      102425 non-null  object \n",
      " 15  shipping_limit_date            102425 non-null  object \n",
      " 16  price                          102425 non-null  float64\n",
      " 17  freight_value                  102425 non-null  float64\n",
      " 18  payment_sequential             103199 non-null  float64\n",
      " 19  payment_type                   103199 non-null  object \n",
      " 20  payment_installments           103199 non-null  float64\n",
      " 21  payment_value                  103199 non-null  float64\n",
      " 22  product_category_name          100969 non-null  object \n",
      " 23  product_name_lenght            100969 non-null  float64\n",
      " 24  product_description_lenght     100969 non-null  float64\n",
      " 25  product_photos_qty             100969 non-null  float64\n",
      " 26  product_weight_g               102409 non-null  float64\n",
      " 27  product_length_cm              102409 non-null  float64\n",
      " 28  product_height_cm              102409 non-null  float64\n",
      " 29  product_width_cm               102409 non-null  float64\n",
      " 30  review_id                      102425 non-null  object \n",
      " 31  review_score                   102425 non-null  float64\n",
      " 32  review_comment_title           12193 non-null   object \n",
      " 33  review_comment_message         43146 non-null   object \n",
      " 34  review_creation_date           102425 non-null  object \n",
      " 35  review_answer_timestamp        102425 non-null  object \n",
      "dtypes: float64(14), int64(1), object(21)\n",
      "memory usage: 29.1+ MB\n"
     ]
    }
   ],
   "source": [
    "full = full.drop_duplicates(subset=[\"order_id\", \"customer_id\", \"product_id\"])\n",
    "full.info()\n"
   ]
  },
  {
   "cell_type": "code",
   "execution_count": 21,
   "id": "e47ee3e1-9579-4ca1-8680-dbb3cfc2a0be",
   "metadata": {},
   "outputs": [],
   "source": [
    "with open(\"order_full.pkl\", \"wb\") as f:\n",
    "    pickle.dump(\n",
    "        order_full,\n",
    "        f,\n",
    "    )\n",
    "with open(\"full.pkl\", \"wb\") as f:\n",
    "    pickle.dump(\n",
    "        full ,\n",
    "        f,\n",
    "    )\n",
    "    \n",
    "with open(\"order_product.pkl\", \"wb\") as f:\n",
    "    pickle.dump(\n",
    "        order_product ,\n",
    "        f,\n",
    "    )"
   ]
  }
 ],
 "metadata": {
  "kernelspec": {
   "display_name": "Python 3",
   "language": "python",
   "name": "python3"
  },
  "language_info": {
   "codemirror_mode": {
    "name": "ipython",
    "version": 3
   },
   "file_extension": ".py",
   "mimetype": "text/x-python",
   "name": "python",
   "nbconvert_exporter": "python",
   "pygments_lexer": "ipython3",
   "version": "3.7.6"
  }
 },
 "nbformat": 4,
 "nbformat_minor": 5
}
